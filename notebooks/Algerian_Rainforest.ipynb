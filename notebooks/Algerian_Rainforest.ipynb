{
  "cells": [
    {
      "cell_type": "code",
      "execution_count": null,
      "metadata": {
        "id": "TINaV_U1ebTm"
      },
      "outputs": [],
      "source": [
        "import pandas as pd\n",
        "import numpy as np\n",
        "import matplotlib.pyplot as plt\n",
        "import seaborn as sns\n",
        "%matplotlib inline"
      ]
    },
    {
      "cell_type": "code",
      "execution_count": null,
      "metadata": {
        "id": "Ck2sKmHdQ-t3"
      },
      "outputs": [],
      "source": [
        "dataset=pd.read_csv('/content/Algerian_forest_fires_dataset_UPDATE.csv',header=1)"
      ]
    },
    {
      "cell_type": "code",
      "execution_count": null,
      "metadata": {
        "id": "NAlUA73XRPCv"
      },
      "outputs": [],
      "source": [
        "dataset.head()"
      ]
    },
    {
      "cell_type": "markdown",
      "metadata": {
        "id": "v2e0ztTMRchM"
      },
      "source": [
        "Data Cleaning\n"
      ]
    },
    {
      "cell_type": "code",
      "execution_count": null,
      "metadata": {
        "id": "FvPRAX5pRXkr"
      },
      "outputs": [],
      "source": [
        "dataset[dataset.isnull().any(axis=1)]"
      ]
    },
    {
      "cell_type": "code",
      "execution_count": null,
      "metadata": {
        "id": "DClZvriXRgJA"
      },
      "outputs": [],
      "source": [
        "dataset.loc[:122,\"Region\"]=0\n",
        "dataset.loc[122:,\"Region\"]=1\n",
        "df=dataset"
      ]
    },
    {
      "cell_type": "code",
      "execution_count": null,
      "metadata": {
        "id": "N07LR_HnSI9k"
      },
      "outputs": [],
      "source": [
        "df.info()"
      ]
    },
    {
      "cell_type": "code",
      "execution_count": null,
      "metadata": {
        "id": "oHbQygG8SQSt"
      },
      "outputs": [],
      "source": [
        "df[[\"Region\"]]=df[[\"Region\"]].astype(int)"
      ]
    },
    {
      "cell_type": "code",
      "execution_count": null,
      "metadata": {
        "id": "Ik449CFnSeka"
      },
      "outputs": [],
      "source": [
        "df.head()"
      ]
    },
    {
      "cell_type": "code",
      "execution_count": null,
      "metadata": {
        "id": "igvnlYDfSfi_"
      },
      "outputs": [],
      "source": [
        "df.info()"
      ]
    },
    {
      "cell_type": "code",
      "execution_count": null,
      "metadata": {
        "id": "7sfD8qfhSi90"
      },
      "outputs": [],
      "source": [
        "df.isnull().sum()"
      ]
    },
    {
      "cell_type": "code",
      "execution_count": null,
      "metadata": {
        "id": "1amQax01SscL"
      },
      "outputs": [],
      "source": [
        "df=df.dropna().reset_index(drop=True)"
      ]
    },
    {
      "cell_type": "code",
      "execution_count": null,
      "metadata": {
        "id": "DqlA6wigSzRd"
      },
      "outputs": [],
      "source": [
        "df.head()"
      ]
    },
    {
      "cell_type": "code",
      "execution_count": null,
      "metadata": {
        "id": "buvpt-ArS_dk"
      },
      "outputs": [],
      "source": [
        "df.isnull().sum()"
      ]
    },
    {
      "cell_type": "code",
      "execution_count": null,
      "metadata": {
        "id": "IpdJrLxDTC9i"
      },
      "outputs": [],
      "source": [
        "df.iloc[[122]]"
      ]
    },
    {
      "cell_type": "code",
      "execution_count": null,
      "metadata": {
        "id": "qFUt3DSLTPFJ"
      },
      "outputs": [],
      "source": [
        "df=df.drop(122).reset_index(drop=True)"
      ]
    },
    {
      "cell_type": "code",
      "execution_count": null,
      "metadata": {
        "id": "7hJQ8sqeTVd2"
      },
      "outputs": [],
      "source": [
        "df.iloc[[122]]"
      ]
    },
    {
      "cell_type": "code",
      "execution_count": null,
      "metadata": {
        "id": "j8-8lyk7TWxk"
      },
      "outputs": [],
      "source": [
        "df.columns"
      ]
    },
    {
      "cell_type": "markdown",
      "metadata": {
        "id": "m7XKp7ZYTcx6"
      },
      "source": [
        "Fixing name in column names"
      ]
    },
    {
      "cell_type": "code",
      "execution_count": null,
      "metadata": {
        "id": "F28tgNutTapQ"
      },
      "outputs": [],
      "source": [
        "df.columns=df.columns.str.strip()\n",
        "df.columns"
      ]
    },
    {
      "cell_type": "markdown",
      "metadata": {
        "id": "j7zFzcEhT-T-"
      },
      "source": [
        "Chaning required columns as integers"
      ]
    },
    {
      "cell_type": "code",
      "execution_count": null,
      "metadata": {
        "id": "UG0nvnA7Twbv"
      },
      "outputs": [],
      "source": [
        "df[['month','day','year','Temperature','RH','Ws']]=df[['month','day','year','Temperature','RH','Ws']].astype(int)"
      ]
    },
    {
      "cell_type": "code",
      "execution_count": null,
      "metadata": {
        "id": "8Qy84-PMUQ5P"
      },
      "outputs": [],
      "source": [
        "df.info()"
      ]
    },
    {
      "cell_type": "markdown",
      "metadata": {
        "id": "rOL5QeXEUVzU"
      },
      "source": [
        "Chaning required columns to float"
      ]
    },
    {
      "cell_type": "code",
      "execution_count": null,
      "metadata": {
        "id": "xZj1CE4vUTg-"
      },
      "outputs": [],
      "source": [
        "df[['Rain', 'FFMC','DMC', 'DC', 'ISI', 'BUI', 'FWI']]=df[['Rain', 'FFMC','DMC', 'DC', 'ISI', 'BUI', 'FWI']].astype(float)"
      ]
    },
    {
      "cell_type": "code",
      "execution_count": null,
      "metadata": {
        "id": "_1Ahuql6VFw5"
      },
      "outputs": [],
      "source": [
        "df.info()"
      ]
    },
    {
      "cell_type": "code",
      "execution_count": null,
      "metadata": {
        "id": "FZBQEVYoVHjK"
      },
      "outputs": [],
      "source": [
        "df.describe()"
      ]
    },
    {
      "cell_type": "code",
      "execution_count": null,
      "metadata": {
        "id": "Q-_RsyOpVNfc"
      },
      "outputs": [],
      "source": [
        "df.to_csv('Algerian_forest_cleaned_dataset',index=False)"
      ]
    },
    {
      "cell_type": "markdown",
      "metadata": {
        "id": "aDCTgN-TVstu"
      },
      "source": [
        "EDA"
      ]
    },
    {
      "cell_type": "code",
      "execution_count": null,
      "metadata": {
        "id": "uTKMHyp7VqYs"
      },
      "outputs": [],
      "source": [
        "df_copy=df.drop(['day','month','year'],axis=1)"
      ]
    },
    {
      "cell_type": "code",
      "execution_count": null,
      "metadata": {
        "id": "pz_rx1nlVve_"
      },
      "outputs": [],
      "source": [
        "df_copy.head()"
      ]
    },
    {
      "cell_type": "code",
      "execution_count": null,
      "metadata": {
        "id": "U7C1dunMWdO-"
      },
      "outputs": [],
      "source": [
        "df_copy['Classes'].value_counts()"
      ]
    },
    {
      "cell_type": "code",
      "execution_count": null,
      "metadata": {
        "id": "THwo3d4SV9io"
      },
      "outputs": [],
      "source": [
        "df_copy['Classes']=np.where(df_copy['Classes'].str.contains('not fire'),0,1)"
      ]
    },
    {
      "cell_type": "code",
      "execution_count": null,
      "metadata": {
        "id": "JjbYYmUbW1I6"
      },
      "outputs": [],
      "source": [
        "df_copy.head()"
      ]
    },
    {
      "cell_type": "code",
      "execution_count": null,
      "metadata": {
        "id": "bt6gVBXwW263"
      },
      "outputs": [],
      "source": [
        "df_copy['Classes'].value_counts()"
      ]
    },
    {
      "cell_type": "code",
      "execution_count": null,
      "metadata": {
        "id": "5QviSkzaW8v5"
      },
      "outputs": [],
      "source": [
        "plt.style.use('seaborn')\n",
        "df_copy.hist(bins=50,figsize=(20,15))"
      ]
    },
    {
      "cell_type": "markdown",
      "metadata": {
        "id": "AR-S5fX8XZfw"
      },
      "source": [
        "Pie chart"
      ]
    },
    {
      "cell_type": "code",
      "execution_count": null,
      "metadata": {
        "colab": {
          "background_save": true
        },
        "id": "7qqMjzc_XREk"
      },
      "outputs": [],
      "source": [
        "percentage=df_copy['Classes'].value_counts(normalize=True)*100"
      ]
    },
    {
      "cell_type": "code",
      "execution_count": null,
      "metadata": {
        "colab": {
          "background_save": true
        },
        "id": "doBMKnINXlXI",
        "outputId": "19ee1a94-b7ff-4445-9493-e5475a5641d1"
      },
      "outputs": [
        {
          "data": {
            "text/plain": [
              "Text(0.5, 1.0, 'Pie chart of Classes')"
            ]
          },
          "execution_count": 33,
          "metadata": {},
          "output_type": "execute_result"
        },
        {
          "data": {
            "image/png": "[encoded data removed]",
            "text/plain": [
              "<Figure size 1200x700 with 1 Axes>"
            ]
          },
          "metadata": {},
          "output_type": "display_data"
        }
      ],
      "source": [
        "classlabels=[\"Fire\",\"Not Fire\"]\n",
        "plt.figure(figsize=(12,7))\n",
        "plt.pie(percentage,labels=classlabels,autopct='%1.1f%%')\n",
        "plt.title(\"Pie chart of Classes\")"
      ]
    },
    {
      "cell_type": "code",
      "execution_count": null,
      "metadata": {
        "colab": {
          "background_save": true
        },
        "id": "szQ4QM27X9uZ",
        "outputId": "1ad3c1da-80ae-4099-8513-89736018b3a3"
      },
      "outputs": [
        {
          "data": {
            "application/vnd.google.colaboratory.intrinsic+json": {
              "summary": "{\n  \"name\": \"df_copy\",\n  \"rows\": 12,\n  \"fields\": [\n    {\n      \"column\": \"Temperature\",\n      \"properties\": {\n        \"dtype\": \"number\",\n        \"std\": 0.4812177163936937,\n        \"min\": -0.651400338709241,\n        \"max\": 1.0,\n        \"num_unique_values\": 12,\n        \"samples\": [\n          0.5160154869282906,\n          0.566669878116237,\n          1.0\n        ],\n        \"semantic_type\": \"\",\n        \"description\": \"\"\n      }\n    },\n    {\n      \"column\": \"RH\",\n      \"properties\": {\n        \"dtype\": \"number\",\n        \"std\": 0.49903426792773004,\n        \"min\": -0.6866670434377354,\n        \"max\": 1.0,\n        \"num_unique_values\": 12,\n        \"samples\": [\n          -0.4321607413557422,\n          -0.5809567466893123,\n          -0.651400338709241\n        ],\n        \"semantic_type\": \"\",\n        \"description\": \"\"\n      }\n    },\n    {\n      \"column\": \"Ws\",\n      \"properties\": {\n        \"dtype\": \"number\",\n        \"std\": 0.32773569471261177,\n        \"min\": -0.2845098896793372,\n        \"max\": 1.0,\n        \"num_unique_values\": 12,\n        \"samples\": [\n          -0.06996363288941113,\n          0.03236777266168856,\n          -0.2845098896793372\n        ],\n        \"semantic_type\": \"\",\n        \"description\": \"\"\n      }\n    },\n    {\n      \"column\": \"Rain\",\n      \"properties\": {\n        \"dtype\": \"number\",\n        \"std\": 0.4197934153717571,\n        \"min\": -0.5439061882897656,\n        \"max\": 1.0,\n        \"num_unique_values\": 12,\n        \"samples\": [\n          -0.37909716520248304,\n          -0.3244215593312768,\n          -0.3264919235683732\n        ],\n        \"semantic_type\": \"\",\n        \"description\": \"\"\n      }\n    },\n    {\n      \"column\": \"FFMC\",\n      \"properties\": {\n        \"dtype\": \"number\",\n        \"std\": 0.5383605983804439,\n        \"min\": -0.6448734645051493,\n        \"max\": 1.0,\n        \"num_unique_values\": 12,\n        \"samples\": [\n          0.7694922970073381,\n          0.6911319706859315,\n          0.6765681454978703\n        ],\n        \"semantic_type\": \"\",\n        \"description\": \"\"\n      }\n    },\n    {\n      \"column\": \"DMC\",\n      \"properties\": {\n        \"dtype\": \"number\",\n        \"std\": 0.4856713480263609,\n        \"min\": -0.4085191879924509,\n        \"max\": 1.0,\n        \"num_unique_values\": 12,\n        \"samples\": [\n          0.5856577689867186,\n          0.8758641588191531,\n          0.48568692303508737\n        ],\n        \"semantic_type\": \"\",\n        \"description\": \"\"\n      }\n    },\n    {\n      \"column\": \"DC\",\n      \"properties\": {\n        \"dtype\": \"number\",\n        \"std\": 0.45152891625659786,\n        \"min\": -0.29802308080689033,\n        \"max\": 1.0,\n        \"num_unique_values\": 12,\n        \"samples\": [\n          0.5111233336622587,\n          0.7395205557052649,\n          0.3762835324075594\n        ],\n        \"semantic_type\": \"\",\n        \"description\": \"\"\n      }\n    },\n    {\n      \"column\": \"ISI\",\n      \"properties\": {\n        \"dtype\": \"number\",\n        \"std\": 0.5185929014546771,\n        \"min\": -0.6866670434377354,\n        \"max\": 1.0,\n        \"num_unique_values\": 12,\n        \"samples\": [\n          0.7351973881454745,\n          0.9228949343157855,\n          0.6038705585736152\n        ],\n        \"semantic_type\": \"\",\n        \"description\": \"\"\n      }\n    },\n    {\n      \"column\": \"BUI\",\n      \"properties\": {\n        \"dtype\": \"number\",\n        \"std\": 0.4845893992047555,\n        \"min\": -0.35384054752884353,\n        \"max\": 1.0,\n        \"num_unique_values\": 12,\n        \"samples\": [\n          0.5866394889697074,\n          0.8579730958964258,\n          0.4597894732607089\n        ],\n        \"semantic_type\": \"\",\n        \"description\": \"\"\n      }\n    },\n    {\n      \"column\": \"FWI\",\n      \"properties\": {\n        \"dtype\": \"number\",\n        \"std\": 0.5218493068747606,\n        \"min\": -0.5809567466893123,\n        \"max\": 1.0,\n        \"num_unique_values\": 12,\n        \"samples\": [\n          0.7192161486674156,\n          1.0,\n          0.566669878116237\n        ],\n        \"semantic_type\": \"\",\n        \"description\": \"\"\n      }\n    },\n    {\n      \"column\": \"Classes\",\n      \"properties\": {\n        \"dtype\": \"number\",\n        \"std\": 0.4653405558754816,\n        \"min\": -0.4321607413557422,\n        \"max\": 1.0,\n        \"num_unique_values\": 12,\n        \"samples\": [\n          1.0,\n          0.7192161486674156,\n          0.5160154869282906\n        ],\n        \"semantic_type\": \"\",\n        \"description\": \"\"\n      }\n    },\n    {\n      \"column\": \"Region\",\n      \"properties\": {\n        \"dtype\": \"number\",\n        \"std\": 0.3391485998390807,\n        \"min\": -0.40268162228962845,\n        \"max\": 1.0,\n        \"num_unique_values\": 12,\n        \"samples\": [\n          0.16234666254989277,\n          0.19710232928956803,\n          0.2695554562297727\n        ],\n        \"semantic_type\": \"\",\n        \"description\": \"\"\n      }\n    }\n  ]\n}",
              "type": "dataframe"
            },
            "text/html": [
              "\n",
              "  <div id=\"df-54afaeae-7bbd-42ac-ab0a-ea1f479999b9\" class=\"colab-df-container\">\n",
              "    <div>\n",
              "<style scoped>\n",
              "    .dataframe tbody tr th:only-of-type {\n",
              "        vertical-align: middle;\n",
              "    }\n",
              "\n",
              "    .dataframe tbody tr th {\n",
              "        vertical-align: top;\n",
              "    }\n",
              "\n",
              "    .dataframe thead th {\n",
              "        text-align: right;\n",
              "    }\n",
              "</style>\n",
              "<table border=\"1\" class=\"dataframe\">\n",
              "  <thead>\n",
              "    <tr style=\"text-align: right;\">\n",
              "      <th></th>\n",
              "      <th>Temperature</th>\n",
              "      <th>RH</th>\n",
              "      <th>Ws</th>\n",
              "      <th>Rain</th>\n",
              "      <th>FFMC</th>\n",
              "      <th>DMC</th>\n",
              "      <th>DC</th>\n",
              "      <th>ISI</th>\n",
              "      <th>BUI</th>\n",
              "      <th>FWI</th>\n",
              "      <th>Classes</th>\n",
              "      <th>Region</th>\n",
              "    </tr>\n",
              "  </thead>\n",
              "  <tbody>\n",
              "    <tr>\n",
              "      <th>Temperature</th>\n",
              "      <td>1.000000</td>\n",
              "      <td>-0.651400</td>\n",
              "      <td>-0.284510</td>\n",
              "      <td>-0.326492</td>\n",
              "      <td>0.676568</td>\n",
              "      <td>0.485687</td>\n",
              "      <td>0.376284</td>\n",
              "      <td>0.603871</td>\n",
              "      <td>0.459789</td>\n",
              "      <td>0.566670</td>\n",
              "      <td>0.516015</td>\n",
              "      <td>0.269555</td>\n",
              "    </tr>\n",
              "    <tr>\n",
              "      <th>RH</th>\n",
              "      <td>-0.651400</td>\n",
              "      <td>1.000000</td>\n",
              "      <td>0.244048</td>\n",
              "      <td>0.222356</td>\n",
              "      <td>-0.644873</td>\n",
              "      <td>-0.408519</td>\n",
              "      <td>-0.226941</td>\n",
              "      <td>-0.686667</td>\n",
              "      <td>-0.353841</td>\n",
              "      <td>-0.580957</td>\n",
              "      <td>-0.432161</td>\n",
              "      <td>-0.402682</td>\n",
              "    </tr>\n",
              "    <tr>\n",
              "      <th>Ws</th>\n",
              "      <td>-0.284510</td>\n",
              "      <td>0.244048</td>\n",
              "      <td>1.000000</td>\n",
              "      <td>0.171506</td>\n",
              "      <td>-0.166548</td>\n",
              "      <td>-0.000721</td>\n",
              "      <td>0.079135</td>\n",
              "      <td>0.008532</td>\n",
              "      <td>0.031438</td>\n",
              "      <td>0.032368</td>\n",
              "      <td>-0.069964</td>\n",
              "      <td>-0.181160</td>\n",
              "    </tr>\n",
              "    <tr>\n",
              "      <th>Rain</th>\n",
              "      <td>-0.326492</td>\n",
              "      <td>0.222356</td>\n",
              "      <td>0.171506</td>\n",
              "      <td>1.000000</td>\n",
              "      <td>-0.543906</td>\n",
              "      <td>-0.288773</td>\n",
              "      <td>-0.298023</td>\n",
              "      <td>-0.347484</td>\n",
              "      <td>-0.299852</td>\n",
              "      <td>-0.324422</td>\n",
              "      <td>-0.379097</td>\n",
              "      <td>-0.040013</td>\n",
              "    </tr>\n",
              "    <tr>\n",
              "      <th>FFMC</th>\n",
              "      <td>0.676568</td>\n",
              "      <td>-0.644873</td>\n",
              "      <td>-0.166548</td>\n",
              "      <td>-0.543906</td>\n",
              "      <td>1.000000</td>\n",
              "      <td>0.603608</td>\n",
              "      <td>0.507397</td>\n",
              "      <td>0.740007</td>\n",
              "      <td>0.592011</td>\n",
              "      <td>0.691132</td>\n",
              "      <td>0.769492</td>\n",
              "      <td>0.222241</td>\n",
              "    </tr>\n",
              "    <tr>\n",
              "      <th>DMC</th>\n",
              "      <td>0.485687</td>\n",
              "      <td>-0.408519</td>\n",
              "      <td>-0.000721</td>\n",
              "      <td>-0.288773</td>\n",
              "      <td>0.603608</td>\n",
              "      <td>1.000000</td>\n",
              "      <td>0.875925</td>\n",
              "      <td>0.680454</td>\n",
              "      <td>0.982248</td>\n",
              "      <td>0.875864</td>\n",
              "      <td>0.585658</td>\n",
              "      <td>0.192089</td>\n",
              "    </tr>\n",
              "    <tr>\n",
              "      <th>DC</th>\n",
              "      <td>0.376284</td>\n",
              "      <td>-0.226941</td>\n",
              "      <td>0.079135</td>\n",
              "      <td>-0.298023</td>\n",
              "      <td>0.507397</td>\n",
              "      <td>0.875925</td>\n",
              "      <td>1.000000</td>\n",
              "      <td>0.508643</td>\n",
              "      <td>0.941988</td>\n",
              "      <td>0.739521</td>\n",
              "      <td>0.511123</td>\n",
              "      <td>-0.078734</td>\n",
              "    </tr>\n",
              "    <tr>\n",
              "      <th>ISI</th>\n",
              "      <td>0.603871</td>\n",
              "      <td>-0.686667</td>\n",
              "      <td>0.008532</td>\n",
              "      <td>-0.347484</td>\n",
              "      <td>0.740007</td>\n",
              "      <td>0.680454</td>\n",
              "      <td>0.508643</td>\n",
              "      <td>1.000000</td>\n",
              "      <td>0.644093</td>\n",
              "      <td>0.922895</td>\n",
              "      <td>0.735197</td>\n",
              "      <td>0.263197</td>\n",
              "    </tr>\n",
              "    <tr>\n",
              "      <th>BUI</th>\n",
              "      <td>0.459789</td>\n",
              "      <td>-0.353841</td>\n",
              "      <td>0.031438</td>\n",
              "      <td>-0.299852</td>\n",
              "      <td>0.592011</td>\n",
              "      <td>0.982248</td>\n",
              "      <td>0.941988</td>\n",
              "      <td>0.644093</td>\n",
              "      <td>1.000000</td>\n",
              "      <td>0.857973</td>\n",
              "      <td>0.586639</td>\n",
              "      <td>0.089408</td>\n",
              "    </tr>\n",
              "    <tr>\n",
              "      <th>FWI</th>\n",
              "      <td>0.566670</td>\n",
              "      <td>-0.580957</td>\n",
              "      <td>0.032368</td>\n",
              "      <td>-0.324422</td>\n",
              "      <td>0.691132</td>\n",
              "      <td>0.875864</td>\n",
              "      <td>0.739521</td>\n",
              "      <td>0.922895</td>\n",
              "      <td>0.857973</td>\n",
              "      <td>1.000000</td>\n",
              "      <td>0.719216</td>\n",
              "      <td>0.197102</td>\n",
              "    </tr>\n",
              "    <tr>\n",
              "      <th>Classes</th>\n",
              "      <td>0.516015</td>\n",
              "      <td>-0.432161</td>\n",
              "      <td>-0.069964</td>\n",
              "      <td>-0.379097</td>\n",
              "      <td>0.769492</td>\n",
              "      <td>0.585658</td>\n",
              "      <td>0.511123</td>\n",
              "      <td>0.735197</td>\n",
              "      <td>0.586639</td>\n",
              "      <td>0.719216</td>\n",
              "      <td>1.000000</td>\n",
              "      <td>0.162347</td>\n",
              "    </tr>\n",
              "    <tr>\n",
              "      <th>Region</th>\n",
              "      <td>0.269555</td>\n",
              "      <td>-0.402682</td>\n",
              "      <td>-0.181160</td>\n",
              "      <td>-0.040013</td>\n",
              "      <td>0.222241</td>\n",
              "      <td>0.192089</td>\n",
              "      <td>-0.078734</td>\n",
              "      <td>0.263197</td>\n",
              "      <td>0.089408</td>\n",
              "      <td>0.197102</td>\n",
              "      <td>0.162347</td>\n",
              "      <td>1.000000</td>\n",
              "    </tr>\n",
              "  </tbody>\n",
              "</table>\n",
              "</div>\n",
              "    <div class=\"colab-df-buttons\">\n",
              "\n",
              "  <div class=\"colab-df-container\">\n",
              "    <button class=\"colab-df-convert\" onclick=\"convertToInteractive('df-54afaeae-7bbd-42ac-ab0a-ea1f479999b9')\"\n",
              "            title=\"Convert this dataframe to an interactive table.\"\n",
              "            style=\"display:none;\">\n",
              "\n",
              "  <svg xmlns=\"http://www.w3.org/2000/svg\" height=\"24px\" viewBox=\"0 -960 960 960\">\n",
              "    <path d=\"M120-120v-720h720v720H120Zm60-500h600v-160H180v160Zm220 220h160v-160H400v160Zm0 220h160v-160H400v160ZM180-400h160v-160H180v160Zm440 0h160v-160H620v160ZM180-180h160v-160H180v160Zm440 0h160v-160H620v160Z\"/>\n",
              "  </svg>\n",
              "    </button>\n",
              "\n",
              "  <style>\n",
              "    .colab-df-container {\n",
              "      display:flex;\n",
              "      gap: 12px;\n",
              "    }\n",
              "\n",
              "    .colab-df-convert {\n",
              "      background-color: #E8F0FE;\n",
              "      border: none;\n",
              "      border-radius: 50%;\n",
              "      cursor: pointer;\n",
              "      display: none;\n",
              "      fill: #1967D2;\n",
              "      height: 32px;\n",
              "      padding: 0 0 0 0;\n",
              "      width: 32px;\n",
              "    }\n",
              "\n",
              "    .colab-df-convert:hover {\n",
              "      background-color: #E2EBFA;\n",
              "      box-shadow: 0px 1px 2px rgba(60, 64, 67, 0.3), 0px 1px 3px 1px rgba(60, 64, 67, 0.15);\n",
              "      fill: #174EA6;\n",
              "    }\n",
              "\n",
              "    .colab-df-buttons div {\n",
              "      margin-bottom: 4px;\n",
              "    }\n",
              "\n",
              "    [theme=dark] .colab-df-convert {\n",
              "      background-color: #3B4455;\n",
              "      fill: #D2E3FC;\n",
              "    }\n",
              "\n",
              "    [theme=dark] .colab-df-convert:hover {\n",
              "      background-color: #434B5C;\n",
              "      box-shadow: 0px 1px 3px 1px rgba(0, 0, 0, 0.15);\n",
              "      filter: drop-shadow(0px 1px 2px rgba(0, 0, 0, 0.3));\n",
              "      fill: #FFFFFF;\n",
              "    }\n",
              "  </style>\n",
              "\n",
              "    <script>\n",
              "      const buttonEl =\n",
              "        document.querySelector('#df-54afaeae-7bbd-42ac-ab0a-ea1f479999b9 button.colab-df-convert');\n",
              "      buttonEl.style.display =\n",
              "        google.colab.kernel.accessAllowed ? 'block' : 'none';\n",
              "\n",
              "      async function convertToInteractive(key) {\n",
              "        const element = document.querySelector('#df-54afaeae-7bbd-42ac-ab0a-ea1f479999b9');\n",
              "        const dataTable =\n",
              "          await google.colab.kernel.invokeFunction('convertToInteractive',\n",
              "                                                    [key], {});\n",
              "        if (!dataTable) return;\n",
              "\n",
              "        const docLinkHtml = 'Like what you see? Visit the ' +\n",
              "          '<a target=\"_blank\" href=https://colab.research.google.com/notebooks/data_table.ipynb>data table notebook</a>'\n",
              "          + ' to learn more about interactive tables.';\n",
              "        element.innerHTML = '';\n",
              "        dataTable['output_type'] = 'display_data';\n",
              "        await google.colab.output.renderOutput(dataTable, element);\n",
              "        const docLink = document.createElement('div');\n",
              "        docLink.innerHTML = docLinkHtml;\n",
              "        element.appendChild(docLink);\n",
              "      }\n",
              "    </script>\n",
              "  </div>\n",
              "\n",
              "\n",
              "<div id=\"df-f693e5d2-c26c-49f5-897b-39edcb5a2132\">\n",
              "  <button class=\"colab-df-quickchart\" onclick=\"quickchart('df-f693e5d2-c26c-49f5-897b-39edcb5a2132')\"\n",
              "            title=\"Suggest charts\"\n",
              "            style=\"display:none;\">\n",
              "\n",
              "<svg xmlns=\"http://www.w3.org/2000/svg\" height=\"24px\"viewBox=\"0 0 24 24\"\n",
              "     width=\"24px\">\n",
              "    <g>\n",
              "        <path d=\"M19 3H5c-1.1 0-2 .9-2 2v14c0 1.1.9 2 2 2h14c1.1 0 2-.9 2-2V5c0-1.1-.9-2-2-2zM9 17H7v-7h2v7zm4 0h-2V7h2v10zm4 0h-2v-4h2v4z\"/>\n",
              "    </g>\n",
              "</svg>\n",
              "  </button>\n",
              "\n",
              "<style>\n",
              "  .colab-df-quickchart {\n",
              "      --bg-color: #E8F0FE;\n",
              "      --fill-color: #1967D2;\n",
              "      --hover-bg-color: #E2EBFA;\n",
              "      --hover-fill-color: #174EA6;\n",
              "      --disabled-fill-color: #AAA;\n",
              "      --disabled-bg-color: #DDD;\n",
              "  }\n",
              "\n",
              "  [theme=dark] .colab-df-quickchart {\n",
              "      --bg-color: #3B4455;\n",
              "      --fill-color: #D2E3FC;\n",
              "      --hover-bg-color: #434B5C;\n",
              "      --hover-fill-color: #FFFFFF;\n",
              "      --disabled-bg-color: #3B4455;\n",
              "      --disabled-fill-color: #666;\n",
              "  }\n",
              "\n",
              "  .colab-df-quickchart {\n",
              "    background-color: var(--bg-color);\n",
              "    border: none;\n",
              "    border-radius: 50%;\n",
              "    cursor: pointer;\n",
              "    display: none;\n",
              "    fill: var(--fill-color);\n",
              "    height: 32px;\n",
              "    padding: 0;\n",
              "    width: 32px;\n",
              "  }\n",
              "\n",
              "  .colab-df-quickchart:hover {\n",
              "    background-color: var(--hover-bg-color);\n",
              "    box-shadow: 0 1px 2px rgba(60, 64, 67, 0.3), 0 1px 3px 1px rgba(60, 64, 67, 0.15);\n",
              "    fill: var(--button-hover-fill-color);\n",
              "  }\n",
              "\n",
              "  .colab-df-quickchart-complete:disabled,\n",
              "  .colab-df-quickchart-complete:disabled:hover {\n",
              "    background-color: var(--disabled-bg-color);\n",
              "    fill: var(--disabled-fill-color);\n",
              "    box-shadow: none;\n",
              "  }\n",
              "\n",
              "  .colab-df-spinner {\n",
              "    border: 2px solid var(--fill-color);\n",
              "    border-color: transparent;\n",
              "    border-bottom-color: var(--fill-color);\n",
              "    animation:\n",
              "      spin 1s steps(1) infinite;\n",
              "  }\n",
              "\n",
              "  @keyframes spin {\n",
              "    0% {\n",
              "      border-color: transparent;\n",
              "      border-bottom-color: var(--fill-color);\n",
              "      border-left-color: var(--fill-color);\n",
              "    }\n",
              "    20% {\n",
              "      border-color: transparent;\n",
              "      border-left-color: var(--fill-color);\n",
              "      border-top-color: var(--fill-color);\n",
              "    }\n",
              "    30% {\n",
              "      border-color: transparent;\n",
              "      border-left-color: var(--fill-color);\n",
              "      border-top-color: var(--fill-color);\n",
              "      border-right-color: var(--fill-color);\n",
              "    }\n",
              "    40% {\n",
              "      border-color: transparent;\n",
              "      border-right-color: var(--fill-color);\n",
              "      border-top-color: var(--fill-color);\n",
              "    }\n",
              "    60% {\n",
              "      border-color: transparent;\n",
              "      border-right-color: var(--fill-color);\n",
              "    }\n",
              "    80% {\n",
              "      border-color: transparent;\n",
              "      border-right-color: var(--fill-color);\n",
              "      border-bottom-color: var(--fill-color);\n",
              "    }\n",
              "    90% {\n",
              "      border-color: transparent;\n",
              "      border-bottom-color: var(--fill-color);\n",
              "    }\n",
              "  }\n",
              "</style>\n",
              "\n",
              "  <script>\n",
              "    async function quickchart(key) {\n",
              "      const quickchartButtonEl =\n",
              "        document.querySelector('#' + key + ' button');\n",
              "      quickchartButtonEl.disabled = true;  // To prevent multiple clicks.\n",
              "      quickchartButtonEl.classList.add('colab-df-spinner');\n",
              "      try {\n",
              "        const charts = await google.colab.kernel.invokeFunction(\n",
              "            'suggestCharts', [key], {});\n",
              "      } catch (error) {\n",
              "        console.error('Error during call to suggestCharts:', error);\n",
              "      }\n",
              "      quickchartButtonEl.classList.remove('colab-df-spinner');\n",
              "      quickchartButtonEl.classList.add('colab-df-quickchart-complete');\n",
              "    }\n",
              "    (() => {\n",
              "      let quickchartButtonEl =\n",
              "        document.querySelector('#df-f693e5d2-c26c-49f5-897b-39edcb5a2132 button');\n",
              "      quickchartButtonEl.style.display =\n",
              "        google.colab.kernel.accessAllowed ? 'block' : 'none';\n",
              "    })();\n",
              "  </script>\n",
              "</div>\n",
              "\n",
              "    </div>\n",
              "  </div>\n"
            ],
            "text/plain": [
              "             Temperature        RH        Ws      Rain      FFMC       DMC  \\\n",
              "Temperature     1.000000 -0.651400 -0.284510 -0.326492  0.676568  0.485687   \n",
              "RH             -0.651400  1.000000  0.244048  0.222356 -0.644873 -0.408519   \n",
              "Ws             -0.284510  0.244048  1.000000  0.171506 -0.166548 -0.000721   \n",
              "Rain           -0.326492  0.222356  0.171506  1.000000 -0.543906 -0.288773   \n",
              "FFMC            0.676568 -0.644873 -0.166548 -0.543906  1.000000  0.603608   \n",
              "DMC             0.485687 -0.408519 -0.000721 -0.288773  0.603608  1.000000   \n",
              "DC              0.376284 -0.226941  0.079135 -0.298023  0.507397  0.875925   \n",
              "ISI             0.603871 -0.686667  0.008532 -0.347484  0.740007  0.680454   \n",
              "BUI             0.459789 -0.353841  0.031438 -0.299852  0.592011  0.982248   \n",
              "FWI             0.566670 -0.580957  0.032368 -0.324422  0.691132  0.875864   \n",
              "Classes         0.516015 -0.432161 -0.069964 -0.379097  0.769492  0.585658   \n",
              "Region          0.269555 -0.402682 -0.181160 -0.040013  0.222241  0.192089   \n",
              "\n",
              "                   DC       ISI       BUI       FWI   Classes    Region  \n",
              "Temperature  0.376284  0.603871  0.459789  0.566670  0.516015  0.269555  \n",
              "RH          -0.226941 -0.686667 -0.353841 -0.580957 -0.432161 -0.402682  \n",
              "Ws           0.079135  0.008532  0.031438  0.032368 -0.069964 -0.181160  \n",
              "Rain        -0.298023 -0.347484 -0.299852 -0.324422 -0.379097 -0.040013  \n",
              "FFMC         0.507397  0.740007  0.592011  0.691132  0.769492  0.222241  \n",
              "DMC          0.875925  0.680454  0.982248  0.875864  0.585658  0.192089  \n",
              "DC           1.000000  0.508643  0.941988  0.739521  0.511123 -0.078734  \n",
              "ISI          0.508643  1.000000  0.644093  0.922895  0.735197  0.263197  \n",
              "BUI          0.941988  0.644093  1.000000  0.857973  0.586639  0.089408  \n",
              "FWI          0.739521  0.922895  0.857973  1.000000  0.719216  0.197102  \n",
              "Classes      0.511123  0.735197  0.586639  0.719216  1.000000  0.162347  \n",
              "Region      -0.078734  0.263197  0.089408  0.197102  0.162347  1.000000  "
            ]
          },
          "execution_count": 34,
          "metadata": {},
          "output_type": "execute_result"
        }
      ],
      "source": [
        "df_copy.corr()"
      ]
    },
    {
      "cell_type": "code",
      "execution_count": null,
      "metadata": {
        "colab": {
          "background_save": true
        },
        "id": "VTf686auYFxy",
        "outputId": "4d54c108-78f6-4963-db32-f7821517ed3c"
      },
      "outputs": [
        {
          "data": {
            "text/plain": [
              "<Axes: >"
            ]
          },
          "execution_count": 35,
          "metadata": {},
          "output_type": "execute_result"
        },
        {
          "data": {
            "image/png": "[encoded data removed]",
            "text/plain": [
              "<Figure size 800x550 with 2 Axes>"
            ]
          },
          "metadata": {},
          "output_type": "display_data"
        }
      ],
      "source": [
        "sns.heatmap(df_copy.corr())"
      ]
    },
    {
      "cell_type": "code",
      "execution_count": null,
      "metadata": {
        "colab": {
          "background_save": true
        },
        "id": "wIZoV5WKYzVH",
        "outputId": "7e522f61-b280-45ee-a1f8-7a77781f060a"
      },
      "outputs": [
        {
          "data": {
            "text/plain": [
              "<Axes: ylabel='FWI'>"
            ]
          },
          "execution_count": 36,
          "metadata": {},
          "output_type": "execute_result"
        },
        {
          "data": {
            "image/png": "[encoded data removed]",
            "text/plain": [
              "<Figure size 800x550 with 1 Axes>"
            ]
          },
          "metadata": {},
          "output_type": "display_data"
        }
      ],
      "source": [
        "sns.boxplot(df['FWI'])"
      ]
    },
    {
      "cell_type": "markdown",
      "metadata": {
        "id": "QX6tBP9sZUG-"
      },
      "source": [
        "Monthly Fire Analysis"
      ]
    },
    {
      "cell_type": "code",
      "execution_count": null,
      "metadata": {
        "colab": {
          "background_save": true
        },
        "id": "6_d5k-ynZTfp",
        "outputId": "098df530-5e9e-44af-f6e9-390551e3f5f3"
      },
      "outputs": [
        {
          "data": {
            "text/plain": [
              "Text(0.5, 1.0, 'Fire analysis of Sidi-Bel regions')"
            ]
          },
          "execution_count": 37,
          "metadata": {},
          "output_type": "execute_result"
        },
        {
          "data": {
            "image/png": "[encoded data removed]",
            "text/plain": [
              "<Figure size 1300x600 with 1 Axes>"
            ]
          },
          "metadata": {},
          "output_type": "display_data"
        }
      ],
      "source": [
        "\n",
        "dftemp=df.loc[df[\"Region\"]==1]\n",
        "plt.subplots(figsize=(13,6))\n",
        "sns.set_style(\"whitegrid\")\n",
        "sns.countplot(x=\"month\",hue=\"Classes\",data=df)\n",
        "plt.ylabel(\"Number of Fires\",weight=\"bold\")\n",
        "plt.xlabel(\"Months\",weight=\"bold\")\n",
        "plt.title(\"Fire analysis of Sidi-Bel regions\",weight=\"bold\")"
      ]
    },
    {
      "cell_type": "code",
      "execution_count": null,
      "metadata": {
        "colab": {
          "background_save": true
        },
        "id": "NfmYw4JOZJEk",
        "outputId": "c1187070-1bd1-4088-8916-061cf024c3c3"
      },
      "outputs": [
        {
          "data": {
            "text/plain": [
              "Text(0.5, 1.0, 'Fire analysis of Bejja regions')"
            ]
          },
          "execution_count": 38,
          "metadata": {},
          "output_type": "execute_result"
        },
        {
          "data": {
            "image/png": "[encoded data removed]",
            "text/plain": [
              "<Figure size 1300x600 with 1 Axes>"
            ]
          },
          "metadata": {},
          "output_type": "display_data"
        }
      ],
      "source": [
        "\n",
        "dftemp=df.loc[df[\"Region\"]==0]\n",
        "plt.subplots(figsize=(13,6))\n",
        "sns.set_style(\"whitegrid\")\n",
        "sns.countplot(x=\"month\",hue=\"Classes\",data=df)\n",
        "plt.ylabel(\"Number of Fires\",weight=\"bold\")\n",
        "plt.xlabel(\"Months\",weight=\"bold\")\n",
        "plt.title(\"Fire analysis of Bejja regions\",weight=\"bold\")"
      ]
    },
    {
      "cell_type": "code",
      "execution_count": null,
      "metadata": {
        "colab": {
          "background_save": true
        },
        "id": "0YbrxlJNbOG2"
      },
      "outputs": [],
      "source": []
    }
  ],
  "metadata": {
    "colab": {
      "provenance": []
    },
    "kernelspec": {
      "display_name": "Python 3",
      "name": "python3"
    },
    "language_info": {
      "name": "python"
    }
  },
  "nbformat": 4,
  "nbformat_minor": 0
}